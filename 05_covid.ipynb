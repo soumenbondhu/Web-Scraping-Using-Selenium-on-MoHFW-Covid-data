{
 "cells": [
  {
   "cell_type": "code",
   "execution_count": null,
   "metadata": {},
   "outputs": [],
   "source": [
    "#!/usr/bin/env python\n",
    "# coding: utf-8"
   ]
  },
  {
   "cell_type": "code",
   "execution_count": null,
   "metadata": {},
   "outputs": [],
   "source": [
    "from selenium import webdriver\n",
    "import time\n",
    "import pandas as pd\n",
    "from datetime import date"
   ]
  },
  {
   "cell_type": "code",
   "execution_count": null,
   "metadata": {},
   "outputs": [],
   "source": [
    "chrome_browser = webdriver.Chrome()\n",
    "chrome_browser.get(\"https://www.mohfw.gov.in/\")\n",
    "time.sleep(15)"
   ]
  },
  {
   "cell_type": "code",
   "execution_count": null,
   "metadata": {},
   "outputs": [],
   "source": [
    "exp=chrome_browser.find_element_by_xpath('//*[@id=\"state-data\"]/div/div/div/h2/a')\n",
    "exp.click()"
   ]
  },
  {
   "cell_type": "code",
   "execution_count": null,
   "metadata": {},
   "outputs": [],
   "source": [
    "today=date.today()\n",
    "today_date = str(today)\n",
    "print(today_date)"
   ]
  },
  {
   "cell_type": "code",
   "execution_count": null,
   "metadata": {},
   "outputs": [],
   "source": [
    "head_list=[]\n",
    "h= chrome_browser.find_element_by_xpath('//*[@id=\"state-data\"]/div/div/div/div/table')\n",
    "th_list=h.find_elements_by_tag_name('th')\n",
    "\n",
    "for i in th_list:\n",
    "    head_list.append(i.text)\n",
    "    \n",
    "print(head_list)\n",
    "print(len(head_list))"
   ]
  },
  {
   "cell_type": "code",
   "execution_count": null,
   "metadata": {},
   "outputs": [],
   "source": [
    "column_names=['S. No.', 'Name of State / UT', 'Active_Cases_Total', 'Active_Cases_Change since yesterday', 'Cured/Discharged/Migrated_Cumulative', 'Cured/Discharged/Migrated_Change since yesterday', 'Deaths_Cumulative', 'Deaths_Change since yesterday']\n",
    "df=pd.DataFrame(columns= column_names)\n",
    "print(df)\n"
   ]
  },
  {
   "cell_type": "code",
   "execution_count": null,
   "metadata": {},
   "outputs": [],
   "source": [
    "tr_list=h.find_elements_by_tag_name('tr')\n",
    "\n",
    "for i in tr_list:\n",
    "    td_list=i.find_elements_by_tag_name('td') # tag name retrieve each piece of info for a state\n",
    "    row=[]\n",
    "    for td in td_list:\n",
    "        row.append(td.text) # creating row ie each state data\n",
    "    #print(row)\n",
    "    \n",
    "    try:\n",
    "        data = {}\n",
    "        for j in range(len(df.columns)):\n",
    "            data[df.columns[j]] = row[j] \n",
    "        df = df.append(data, ignore_index=True)\n",
    "    except:\n",
    "        continue"
   ]
  },
  {
   "cell_type": "code",
   "execution_count": null,
   "metadata": {},
   "outputs": [],
   "source": [
    "df"
   ]
  },
  {
   "cell_type": "code",
   "execution_count": null,
   "metadata": {},
   "outputs": [],
   "source": [
    "df=df.drop(columns=['S. No.'])"
   ]
  },
  {
   "cell_type": "code",
   "execution_count": null,
   "metadata": {},
   "outputs": [],
   "source": [
    "df.to_csv('Covid_Dataset_'+today_date+'.csv', index = False)"
   ]
  },
  {
   "cell_type": "code",
   "execution_count": null,
   "metadata": {},
   "outputs": [],
   "source": [
    "\n",
    "\n",
    "\n",
    "\n"
   ]
  }
 ],
 "metadata": {
  "kernelspec": {
   "display_name": "Python 3",
   "language": "python",
   "name": "python3"
  },
  "language_info": {
   "codemirror_mode": {
    "name": "ipython",
    "version": 3
   },
   "file_extension": ".py",
   "mimetype": "text/x-python",
   "name": "python",
   "nbconvert_exporter": "python",
   "pygments_lexer": "ipython3",
   "version": "3.8.8"
  }
 },
 "nbformat": 4,
 "nbformat_minor": 4
}
